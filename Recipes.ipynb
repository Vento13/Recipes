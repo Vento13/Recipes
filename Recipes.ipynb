{
  "cells": [
    {
      "cell_type": "markdown",
      "metadata": {
        "id": "oEU5Zx3WZkMt"
      },
      "source": [
        "### Загрузка данных"
      ]
    },
    {
      "cell_type": "markdown",
      "metadata": {
        "id": "XtMJFr7PZkMt"
      },
      "source": [
        "Коллекция дана в json-формате: для каждого рецепта известны его id, кухня (cuisine) и список ингредиентов, в него входящих. Загрузить данные можно с помощью модуля json (он входит в дистрибутив Anaconda):"
      ]
    },
    {
      "cell_type": "code",
      "execution_count": null,
      "metadata": {
        "id": "lM-JlUCiZkMu"
      },
      "outputs": [],
      "source": [
        "import json\n",
        "import pandas as pd"
      ]
    },
    {
      "cell_type": "code",
      "execution_count": null,
      "metadata": {
        "colab": {
          "base_uri": "https://localhost:8080/"
        },
        "id": "VCS88wJXZzne",
        "outputId": "bc81c0c8-60ab-491a-f751-908671a7aee1"
      },
      "outputs": [
        {
          "name": "stdout",
          "output_type": "stream",
          "text": [
            "Requirement already satisfied: gensim in /usr/local/lib/python3.7/dist-packages (3.6.0)\n",
            "Requirement already satisfied: six>=1.5.0 in /usr/local/lib/python3.7/dist-packages (from gensim) (1.15.0)\n",
            "Requirement already satisfied: numpy>=1.11.3 in /usr/local/lib/python3.7/dist-packages (from gensim) (1.19.5)\n",
            "Requirement already satisfied: smart-open>=1.2.1 in /usr/local/lib/python3.7/dist-packages (from gensim) (5.1.0)\n",
            "Requirement already satisfied: scipy>=0.18.1 in /usr/local/lib/python3.7/dist-packages (from gensim) (1.4.1)\n"
          ]
        }
      ],
      "source": [
        "pip install gensim"
      ]
    },
    {
      "cell_type": "code",
      "execution_count": null,
      "metadata": {
        "id": "eFZdj8FIZkMv"
      },
      "outputs": [],
      "source": [
        "with open(\"recipes.json\") as f:\n",
        "    recipes = json.load(f)"
      ]
    },
    {
      "cell_type": "code",
      "execution_count": null,
      "metadata": {
        "colab": {
          "base_uri": "https://localhost:8080/"
        },
        "id": "Hz_QuskNZkMv",
        "outputId": "f116ac18-4a10-4356-a042-e81fff671fc8"
      },
      "outputs": [
        {
          "name": "stdout",
          "output_type": "stream",
          "text": [
            "{'id': 10259, 'cuisine': 'greek', 'ingredients': ['romaine lettuce', 'black olives', 'grape tomatoes', 'garlic', 'pepper', 'purple onion', 'seasoning', 'garbanzo beans', 'feta cheese crumbles']}\n"
          ]
        }
      ],
      "source": [
        "print(recipes[0])"
      ]
    },
    {
      "cell_type": "markdown",
      "metadata": {
        "id": "K1_15BXHZkMv"
      },
      "source": [
        "### Составление корпуса"
      ]
    },
    {
      "cell_type": "code",
      "execution_count": null,
      "metadata": {
        "id": "b4lReeQPZkMw"
      },
      "outputs": [],
      "source": [
        "from gensim import corpora, models\n",
        "import numpy as np"
      ]
    },
    {
      "cell_type": "markdown",
      "metadata": {
        "id": "oHMn2mBdZkMw"
      },
      "source": [
        "Наша коллекция небольшая, и целиком помещается в оперативную память. Gensim может работать с такими данными и не требует их сохранения на диск в специальном формате. Для этого коллекция должна быть представлена в виде списка списков, каждый внутренний список соответствует отдельному документу и состоит из его слов. Пример коллекции из двух документов: \n",
        "\n",
        "[[\"hello\", \"world\"], [\"programming\", \"in\", \"python\"]]\n",
        "\n",
        "Преобразуем наши данные в такой формат, а затем создадим объекты corpus и dictionary, с которыми будет работать модель."
      ]
    },
    {
      "cell_type": "code",
      "execution_count": null,
      "metadata": {
        "id": "9WvgHJRAZkMw"
      },
      "outputs": [],
      "source": [
        "texts = [recipe[\"ingredients\"] for recipe in recipes]\n",
        "dictionary = corpora.Dictionary(texts)   # составляем словарь\n",
        "corpus = [dictionary.doc2bow(text) for text in texts]  # составляем корпус документов"
      ]
    },
    {
      "cell_type": "code",
      "execution_count": null,
      "metadata": {
        "colab": {
          "base_uri": "https://localhost:8080/"
        },
        "id": "Rmb83F2eZkMx",
        "outputId": "0c7b15e6-cd1a-4778-a42c-6002bd34aa88"
      },
      "outputs": [
        {
          "name": "stdout",
          "output_type": "stream",
          "text": [
            "['romaine lettuce', 'black olives', 'grape tomatoes', 'garlic', 'pepper', 'purple onion', 'seasoning', 'garbanzo beans', 'feta cheese crumbles']\n",
            "[(0, 1), (1, 1), (2, 1), (3, 1), (4, 1), (5, 1), (6, 1), (7, 1), (8, 1)]\n"
          ]
        }
      ],
      "source": [
        "print(texts[0])\n",
        "print(corpus[0])"
      ]
    },
    {
      "cell_type": "markdown",
      "metadata": {
        "id": "jVM-WpwzZkMx"
      },
      "source": [
        "У объекта dictionary есть полезная переменная dictionary.token2id, позволяющая находить соответствие между ингредиентами и их индексами."
      ]
    },
    {
      "cell_type": "code",
      "execution_count": null,
      "metadata": {
        "id": "wSruLkn3oLtY"
      },
      "outputs": [],
      "source": []
    },
    {
      "cell_type": "markdown",
      "metadata": {
        "id": "9giwyrXbZkMx"
      },
      "source": [
        "### Обучение модели"
      ]
    },
    {
      "cell_type": "code",
      "execution_count": null,
      "metadata": {
        "colab": {
          "base_uri": "https://localhost:8080/"
        },
        "id": "2DgkrACWZkMy",
        "outputId": "2b0a2a28-e4a5-4ee2-cb9d-e367a64bef2d"
      },
      "outputs": [
        {
          "name": "stdout",
          "output_type": "stream",
          "text": [
            "CPU times: user 1min 4s, sys: 318 ms, total: 1min 4s\n",
            "Wall time: 1min 4s\n"
          ]
        }
      ],
      "source": [
        "np.random.seed(76543)\n",
        "# здесь код для построения модели:\n",
        "%time ldamodel = models.ldamodel.LdaModel(corpus, id2word=dictionary, num_topics=40, passes=5)"
      ]
    },
    {
      "cell_type": "code",
      "execution_count": null,
      "metadata": {
        "colab": {
          "base_uri": "https://localhost:8080/"
        },
        "id": "d9kbUA13ZkMz",
        "outputId": "2c737c7e-d2b7-48b2-f9b9-e9171107f1f5"
      },
      "outputs": [
        {
          "data": {
            "text/plain": [
              "[(0,\n",
              "  '0.084*\"garlic cloves\" + 0.070*\"chopped onion\" + 0.068*\"cooking spray\" + 0.065*\"salt\" + 0.043*\"water\" + 0.042*\"fat free less sodium chicken broth\" + 0.039*\"ground red pepper\" + 0.039*\"sliced green onions\" + 0.026*\"black pepper\" + 0.024*\"pinenuts\"'),\n",
              " (1,\n",
              "  '0.076*\"corn kernels\" + 0.065*\"diced onions\" + 0.054*\"tortillas\" + 0.053*\"salt and ground black pepper\" + 0.049*\"cream cheese\" + 0.044*\"1% low-fat milk\" + 0.039*\"vegetable stock\" + 0.037*\"sliced black olives\" + 0.036*\"cream cheese, soften\" + 0.035*\"chopped fresh chives\"'),\n",
              " (2,\n",
              "  '0.081*\"olive oil\" + 0.054*\"fresh parsley\" + 0.052*\"crushed red pepper\" + 0.042*\"salt\" + 0.041*\"grated parmesan cheese\" + 0.039*\"garlic cloves\" + 0.034*\"cherry tomatoes\" + 0.033*\"low salt chicken broth\" + 0.031*\"butter\" + 0.029*\"green beans\"'),\n",
              " (3,\n",
              "  '0.074*\"bacon\" + 0.073*\"salt\" + 0.061*\"red pepper flakes\" + 0.047*\"garlic\" + 0.046*\"ground black pepper\" + 0.042*\"pasta\" + 0.037*\"onions\" + 0.037*\"olive oil\" + 0.036*\"chicken thighs\" + 0.030*\"fresh dill\"'),\n",
              " (4,\n",
              "  '0.130*\"all-purpose flour\" + 0.126*\"large eggs\" + 0.088*\"salt\" + 0.080*\"milk\" + 0.071*\"butter\" + 0.050*\"sugar\" + 0.041*\"baking powder\" + 0.031*\"powdered sugar\" + 0.026*\"vegetable oil\" + 0.024*\"large egg whites\"'),\n",
              " (5,\n",
              "  '0.079*\"dry white wine\" + 0.065*\"shallots\" + 0.052*\"olive oil\" + 0.039*\"salt\" + 0.030*\"white wine vinegar\" + 0.030*\"ground cloves\" + 0.029*\"butter\" + 0.029*\"arborio rice\" + 0.025*\"saffron threads\" + 0.023*\"ground nutmeg\"'),\n",
              " (6,\n",
              "  '0.075*\"leeks\" + 0.074*\"dry red wine\" + 0.050*\"pork tenderloin\" + 0.045*\"reduced sodium soy sauce\" + 0.044*\"cilantro sprigs\" + 0.034*\"peppercorns\" + 0.031*\"carrots\" + 0.026*\"granny smith apples\" + 0.025*\"beef broth\" + 0.024*\"cremini mushrooms\"'),\n",
              " (7,\n",
              "  '0.088*\"soy sauce\" + 0.054*\"sesame oil\" + 0.046*\"scallions\" + 0.044*\"green onions\" + 0.039*\"corn starch\" + 0.039*\"rice vinegar\" + 0.036*\"sugar\" + 0.034*\"garlic\" + 0.031*\"vegetable oil\" + 0.027*\"fresh ginger\"'),\n",
              " (8,\n",
              "  '0.177*\"garlic powder\" + 0.117*\"cayenne pepper\" + 0.066*\"onion powder\" + 0.044*\"smoked paprika\" + 0.043*\"ground black pepper\" + 0.035*\"black pepper\" + 0.028*\"fine sea salt\" + 0.026*\"salt\" + 0.023*\"greek yogurt\" + 0.022*\"dried thyme\"'),\n",
              " (9,\n",
              "  '0.070*\"olive oil\" + 0.062*\"salt\" + 0.058*\"purple onion\" + 0.055*\"garlic cloves\" + 0.047*\"extra-virgin olive oil\" + 0.046*\"fresh lemon juice\" + 0.045*\"fresh basil\" + 0.044*\"plum tomatoes\" + 0.041*\"ground black pepper\" + 0.033*\"balsamic vinegar\"'),\n",
              " (10,\n",
              "  '0.054*\"broccoli florets\" + 0.051*\"lettuce leaves\" + 0.041*\"chili flakes\" + 0.040*\"crème fraîche\" + 0.036*\"radishes\" + 0.032*\"greek style plain yogurt\" + 0.032*\"pork sausages\" + 0.031*\"sharp cheddar cheese\" + 0.029*\"watercress\" + 0.027*\"quickcooking grits\"'),\n",
              " (11,\n",
              "  '0.102*\"lime juice\" + 0.090*\"lime\" + 0.049*\"salt\" + 0.045*\"garlic\" + 0.042*\"fresh cilantro\" + 0.042*\"chopped cilantro\" + 0.039*\"purple onion\" + 0.036*\"jalapeno chilies\" + 0.026*\"mango\" + 0.021*\"olive oil\"'),\n",
              " (12,\n",
              "  '0.083*\"cheese\" + 0.080*\"ricotta cheese\" + 0.075*\"orange juice\" + 0.051*\"sliced mushrooms\" + 0.050*\"baby spinach\" + 0.045*\"vegetable oil cooking spray\" + 0.032*\"frozen chopped spinach\" + 0.029*\"italian sausage\" + 0.028*\"part-skim ricotta cheese\" + 0.026*\"part-skim mozzarella cheese\"'),\n",
              " (13,\n",
              "  '0.078*\"diced tomatoes\" + 0.071*\"dried oregano\" + 0.055*\"onions\" + 0.051*\"tomato sauce\" + 0.048*\"salt\" + 0.044*\"garlic\" + 0.040*\"dried basil\" + 0.039*\"olive oil\" + 0.036*\"tomato paste\" + 0.029*\"ground beef\"'),\n",
              " (14,\n",
              "  '0.066*\"beef\" + 0.050*\"onions\" + 0.047*\"green cabbage\" + 0.044*\"red wine\" + 0.042*\"green peas\" + 0.038*\"goat cheese\" + 0.033*\"beef stock\" + 0.030*\"red cabbage\" + 0.028*\"cooked rice\" + 0.028*\"chili pepper\"'),\n",
              " (15,\n",
              "  '0.127*\"lemon\" + 0.066*\"sugar\" + 0.059*\"fresh mint\" + 0.048*\"orange\" + 0.043*\"boiling water\" + 0.033*\"cold water\" + 0.033*\"water\" + 0.029*\"ground white pepper\" + 0.028*\"almonds\" + 0.023*\"all purpose unbleached flour\"'),\n",
              " (16,\n",
              "  '0.073*\"chopped cilantro fresh\" + 0.070*\"fresh lime juice\" + 0.067*\"jalapeno chilies\" + 0.054*\"white onion\" + 0.040*\"avocado\" + 0.037*\"garlic cloves\" + 0.036*\"salt\" + 0.030*\"coarse salt\" + 0.029*\"ground cumin\" + 0.027*\"ground pepper\"'),\n",
              " (17,\n",
              "  '0.129*\"zucchini\" + 0.071*\"eggplant\" + 0.061*\"onions\" + 0.051*\"olive oil\" + 0.050*\"white wine\" + 0.048*\"garlic\" + 0.045*\"chopped parsley\" + 0.039*\"fresh mushrooms\" + 0.036*\"lean ground beef\" + 0.033*\"raisins\"'),\n",
              " (18,\n",
              "  '0.106*\"parmesan cheese\" + 0.075*\"salt\" + 0.065*\"warm water\" + 0.053*\"olive oil\" + 0.051*\"bell pepper\" + 0.049*\"water\" + 0.036*\"grits\" + 0.031*\"polenta\" + 0.030*\"kale\" + 0.028*\"plain flour\"'),\n",
              " (19,\n",
              "  '0.132*\"unsalted butter\" + 0.070*\"all-purpose flour\" + 0.066*\"salt\" + 0.056*\"sugar\" + 0.055*\"large eggs\" + 0.042*\"whole milk\" + 0.042*\"granulated sugar\" + 0.033*\"buttermilk\" + 0.030*\"large egg yolks\" + 0.029*\"baking powder\"'),\n",
              " (20,\n",
              "  '0.088*\"red wine vinegar\" + 0.069*\"flat leaf parsley\" + 0.053*\"olive oil\" + 0.045*\"tomatoes\" + 0.043*\"extra-virgin olive oil\" + 0.042*\"garlic cloves\" + 0.037*\"sweet onion\" + 0.035*\"ground black pepper\" + 0.034*\"dry bread crumbs\" + 0.033*\"salt\"'),\n",
              " (21,\n",
              "  '0.209*\"chicken broth\" + 0.086*\"boneless skinless chicken breast halves\" + 0.078*\"boneless skinless chicken breasts\" + 0.056*\"cajun seasoning\" + 0.037*\"juice\" + 0.030*\"butter\" + 0.030*\"pepper\" + 0.025*\"onions\" + 0.022*\"garlic salt\" + 0.021*\"boneless chicken breast\"'),\n",
              " (22,\n",
              "  '0.134*\"grated parmesan cheese\" + 0.049*\"mozzarella cheese\" + 0.048*\"olive oil\" + 0.045*\"shredded mozzarella cheese\" + 0.037*\"italian seasoning\" + 0.036*\"garlic\" + 0.036*\"salt\" + 0.036*\"eggs\" + 0.029*\"pepper\" + 0.027*\"pasta sauce\"'),\n",
              " (23,\n",
              "  '0.070*\"brown sugar\" + 0.046*\"soy sauce\" + 0.044*\"salt\" + 0.044*\"water\" + 0.043*\"white pepper\" + 0.038*\"oil\" + 0.038*\"sugar\" + 0.036*\"ketchup\" + 0.036*\"sauce\" + 0.035*\"garlic\"'),\n",
              " (24,\n",
              "  '0.075*\"ground cumin\" + 0.044*\"salt\" + 0.044*\"ground coriander\" + 0.029*\"onions\" + 0.027*\"garlic\" + 0.025*\"ground turmeric\" + 0.024*\"garlic cloves\" + 0.023*\"paprika\" + 0.022*\"vegetable oil\" + 0.022*\"cayenne\"'),\n",
              " (25,\n",
              "  '0.079*\"large shrimp\" + 0.070*\"hot water\" + 0.065*\"chopped garlic\" + 0.052*\"peanut oil\" + 0.046*\"rice wine\" + 0.036*\"hot red pepper flakes\" + 0.029*\"corn oil\" + 0.026*\"fontina cheese\" + 0.024*\"marsala wine\" + 0.024*\"seasoning\"'),\n",
              " (26,\n",
              "  '0.072*\"mirin\" + 0.063*\"chickpeas\" + 0.043*\"mint leaves\" + 0.043*\"spring onions\" + 0.043*\"red pepper\" + 0.036*\"fresh coriander\" + 0.036*\"sake\" + 0.035*\"saffron\" + 0.031*\"soy sauce\" + 0.031*\"sugar\"'),\n",
              " (27,\n",
              "  '0.169*\"heavy cream\" + 0.057*\"grated nutmeg\" + 0.054*\"frozen peas\" + 0.041*\"bread crumbs\" + 0.038*\"unsalted butter\" + 0.035*\"bananas\" + 0.035*\"Tabasco Pepper Sauce\" + 0.031*\"bread\" + 0.028*\"mascarpone\" + 0.027*\"lump crab meat\"'),\n",
              " (28,\n",
              "  '0.107*\"oil\" + 0.084*\"salt\" + 0.048*\"cilantro leaves\" + 0.048*\"green chilies\" + 0.046*\"onions\" + 0.045*\"cumin seed\" + 0.039*\"ground turmeric\" + 0.037*\"water\" + 0.032*\"chili powder\" + 0.032*\"red chili peppers\"'),\n",
              " (29,\n",
              "  '0.075*\"sour cream\" + 0.047*\"chili powder\" + 0.046*\"salsa\" + 0.045*\"flour tortillas\" + 0.040*\"black beans\" + 0.040*\"shredded cheddar cheese\" + 0.038*\"corn tortillas\" + 0.031*\"ground cumin\" + 0.029*\"cilantro\" + 0.027*\"salt\"'),\n",
              " (30,\n",
              "  '0.094*\"sugar\" + 0.080*\"whipping cream\" + 0.076*\"egg yolks\" + 0.055*\"vanilla extract\" + 0.044*\"butter\" + 0.043*\"half & half\" + 0.039*\"egg whites\" + 0.037*\"sweetened condensed milk\" + 0.032*\"water\" + 0.031*\"strawberries\"'),\n",
              " (31,\n",
              "  '0.100*\"fish sauce\" + 0.044*\"coconut milk\" + 0.041*\"shallots\" + 0.037*\"sugar\" + 0.034*\"vegetable oil\" + 0.034*\"fresh lime juice\" + 0.030*\"lemongrass\" + 0.028*\"water\" + 0.023*\"medium shrimp\" + 0.023*\"beansprouts\"'),\n",
              " (32,\n",
              "  '0.133*\"eggs\" + 0.091*\"salt\" + 0.061*\"butter\" + 0.056*\"all-purpose flour\" + 0.055*\"milk\" + 0.055*\"flour\" + 0.052*\"white sugar\" + 0.036*\"sugar\" + 0.032*\"baking powder\" + 0.021*\"water\"'),\n",
              " (33,\n",
              "  '0.054*\"rice\" + 0.053*\"onions\" + 0.047*\"salt\" + 0.045*\"chicken breasts\" + 0.044*\"coriander\" + 0.044*\"curry powder\" + 0.038*\"garlic\" + 0.033*\"ginger\" + 0.032*\"cabbage\" + 0.029*\"tumeric\"'),\n",
              " (34,\n",
              "  '0.080*\"cinnamon sticks\" + 0.074*\"clove\" + 0.053*\"black peppercorns\" + 0.044*\"garam masala\" + 0.036*\"chopped tomatoes\" + 0.036*\"cream\" + 0.034*\"garlic paste\" + 0.032*\"coriander seeds\" + 0.030*\"yoghurt\" + 0.027*\"bay leaves\"'),\n",
              " (35,\n",
              "  '0.059*\"onions\" + 0.053*\"green bell pepper\" + 0.051*\"salt\" + 0.045*\"celery\" + 0.031*\"dried thyme\" + 0.030*\"water\" + 0.028*\"red bell pepper\" + 0.028*\"garlic\" + 0.027*\"bay leaves\" + 0.026*\"hot sauce\"'),\n",
              " (36,\n",
              "  '0.098*\"salt\" + 0.069*\"paprika\" + 0.068*\"onions\" + 0.064*\"pepper\" + 0.057*\"potatoes\" + 0.033*\"carrots\" + 0.031*\"garlic\" + 0.028*\"butter\" + 0.027*\"olive oil\" + 0.027*\"oregano\"'),\n",
              " (37,\n",
              "  '0.131*\"extra-virgin olive oil\" + 0.075*\"freshly ground pepper\" + 0.069*\"sea salt\" + 0.049*\"large garlic cloves\" + 0.046*\"kosher salt\" + 0.037*\"garlic cloves\" + 0.031*\"celery ribs\" + 0.030*\"ground black pepper\" + 0.030*\"fresh oregano\" + 0.029*\"parmigiano reggiano cheese\"'),\n",
              " (38,\n",
              "  '0.087*\"chicken\" + 0.081*\"chicken stock\" + 0.055*\"yellow onion\" + 0.054*\"white vinegar\" + 0.045*\"onions\" + 0.044*\"garlic\" + 0.043*\"ground black pepper\" + 0.033*\"kosher salt\" + 0.027*\"water\" + 0.027*\"salt\"'),\n",
              " (39,\n",
              "  '0.127*\"mayonaise\" + 0.063*\"dijon mustard\" + 0.057*\"cider vinegar\" + 0.057*\"cracked black pepper\" + 0.053*\"cheddar cheese\" + 0.039*\"roma tomatoes\" + 0.038*\"apple cider vinegar\" + 0.036*\"white rice\" + 0.036*\"lemon wedge\" + 0.026*\"french bread\"')]"
            ]
          },
          "execution_count": 12,
          "metadata": {},
          "output_type": "execute_result"
        }
      ],
      "source": [
        "top_topics = ldamodel.show_topics(num_topics=40, num_words=10)\n",
        "ldamodel.show_topics(num_topics=40, num_words=10, formatted=True)"
      ]
    },
    {
      "cell_type": "code",
      "execution_count": null,
      "metadata": {
        "colab": {
          "base_uri": "https://localhost:8080/"
        },
        "id": "VgzIuaOPkjAU",
        "outputId": "3bcb4b7d-2747-4717-dcbd-842cbbafd3d2"
      },
      "outputs": [
        {
          "data": {
            "text/plain": [
              "(21,\n",
              " '0.209*\"chicken broth\" + 0.086*\"boneless skinless chicken breast halves\" + 0.078*\"boneless skinless chicken breasts\" + 0.056*\"cajun seasoning\" + 0.037*\"juice\" + 0.030*\"butter\" + 0.030*\"pepper\" + 0.025*\"onions\" + 0.022*\"garlic salt\" + 0.021*\"boneless chicken breast\"')"
            ]
          },
          "execution_count": 13,
          "metadata": {},
          "output_type": "execute_result"
        }
      ],
      "source": [
        "top_topics[21]"
      ]
    },
    {
      "cell_type": "code",
      "execution_count": null,
      "metadata": {
        "colab": {
          "base_uri": "https://localhost:8080/"
        },
        "id": "t2ujA9dhZkMz",
        "outputId": "cf7be82b-eb87-4a48-c710-a629ea37e5c7"
      },
      "outputs": [
        {
          "name": "stdout",
          "output_type": "stream",
          "text": [
            "23 9 10 0 1 2\n"
          ]
        }
      ],
      "source": [
        "c_salt = 0\n",
        "c_sugar = 0\n",
        "c_water = 0\n",
        "c_mushrooms = 0\n",
        "c_chicken = 0\n",
        "c_eggs = 0\n",
        "\n",
        "for t, top_words in top_topics:\n",
        "  c_salt += top_words.count('\"salt\"')\n",
        "  c_sugar += top_words.count('\"sugar\"')\n",
        "  c_water += top_words.count('\"water\"')\n",
        "  c_mushrooms += top_words.count('\"mushrooms\"')\n",
        "  c_chicken += top_words.count('\"chicken\"')\n",
        "  c_eggs += top_words.count('\"eggs\"')\n",
        "\n",
        "print(c_salt, c_sugar, c_water, c_mushrooms, c_chicken, c_eggs)"
      ]
    },
    {
      "cell_type": "code",
      "execution_count": null,
      "metadata": {
        "id": "nRYM2djjZkMz"
      },
      "outputs": [],
      "source": [
        "def save_answers1(c_salt, c_sugar, c_water, c_mushrooms, c_chicken, c_eggs):\n",
        "    with open(\"./cooking_LDA_pa_task1.txt\", \"w\") as fout:\n",
        "        fout.write(\" \".join([str(el) for el in [c_salt, c_sugar, c_water, c_mushrooms, c_chicken, c_eggs]]))"
      ]
    },
    {
      "cell_type": "code",
      "execution_count": null,
      "metadata": {
        "id": "3j5czdU8opU6"
      },
      "outputs": [],
      "source": [
        "save_answers1(c_salt, c_sugar, c_water, c_mushrooms, c_chicken, c_eggs)"
      ]
    },
    {
      "cell_type": "markdown",
      "metadata": {
        "id": "ZE1ZnFX1ZkM0"
      },
      "source": [
        "### Фильтрация словаря\n",
        "В топах тем гораздо чаще встречаются первые три рассмотренных ингредиента, чем последние три. При этом наличие в рецепте курицы, яиц и грибов яснее дает понять, что мы будем готовить, чем наличие соли, сахара и воды. Таким образом, даже в рецептах есть слова, часто встречающиеся в текстах и не несущие смысловой нагрузки, и поэтому их не желательно видеть в темах. Наиболее простой прием борьбы с такими фоновыми элементами — фильтрация словаря по частоте. Обычно словарь фильтруют с двух сторон: убирают очень редкие слова (в целях экономии памяти) и очень частые слова (в целях повышения интерпретируемости тем). Мы уберем только частые слова."
      ]
    },
    {
      "cell_type": "code",
      "execution_count": null,
      "metadata": {
        "id": "dEPZ1Hh-ZkM1"
      },
      "outputs": [],
      "source": [
        "import copy\n",
        "dictionary2 = copy.deepcopy(dictionary)"
      ]
    },
    {
      "cell_type": "code",
      "execution_count": null,
      "metadata": {
        "id": "FxqKb2YmZkM1"
      },
      "outputs": [],
      "source": [
        "keys = [dictionary2[k] for k, v in dictionary2.dfs.items() if v>4000]"
      ]
    },
    {
      "cell_type": "code",
      "execution_count": null,
      "metadata": {
        "colab": {
          "base_uri": "https://localhost:8080/"
        },
        "id": "ISC7B_y_ZkM2",
        "outputId": "9207d5f3-0512-4761-de62-af82a89384f8"
      },
      "outputs": [
        {
          "data": {
            "text/plain": [
              "[3, 5, 15, 11, 18, 20, 29, 44, 52, 59, 104, 114]"
            ]
          },
          "execution_count": 20,
          "metadata": {},
          "output_type": "execute_result"
        }
      ],
      "source": [
        "items = [dictionary2.token2id[k] for k in keys]\n",
        "items"
      ]
    },
    {
      "cell_type": "code",
      "execution_count": null,
      "metadata": {
        "id": "2MYUqyYqs9pE"
      },
      "outputs": [],
      "source": [
        "dictionary2.filter_tokens(bad_ids=items)"
      ]
    },
    {
      "cell_type": "code",
      "execution_count": null,
      "metadata": {
        "id": "MNLrPzKjtaMo"
      },
      "outputs": [],
      "source": [
        "dict_size_before = len(dictionary)\n",
        "dict_size_after = len(dictionary2)"
      ]
    },
    {
      "cell_type": "code",
      "execution_count": null,
      "metadata": {
        "id": "dUmlSbSAxQkN"
      },
      "outputs": [],
      "source": [
        "corpus2 = [dictionary2.doc2bow(text) for text in texts]\n",
        "corpus_size_after = []\n",
        "for i in range(len(corpus2)):\n",
        "  corpus_size_after.append(len(corpus2[i]))"
      ]
    },
    {
      "cell_type": "code",
      "execution_count": null,
      "metadata": {
        "id": "L1zb7QA-x_FB"
      },
      "outputs": [],
      "source": [
        "corpus_size_before = []\n",
        "for i in range(len(corpus)):\n",
        "  corpus_size_before.append(len(corpus[i]))"
      ]
    },
    {
      "cell_type": "code",
      "execution_count": null,
      "metadata": {
        "colab": {
          "base_uri": "https://localhost:8080/"
        },
        "id": "mYren1dIwzoh",
        "outputId": "dda92eca-a0fa-4b99-e532-883e2dc51772"
      },
      "outputs": [
        {
          "name": "stdout",
          "output_type": "stream",
          "text": [
            "343665\n",
            "428249\n"
          ]
        }
      ],
      "source": [
        "print(sum(corpus_size_after))\n",
        "print(sum(corpus_size_before))"
      ]
    },
    {
      "cell_type": "code",
      "execution_count": null,
      "metadata": {
        "id": "LrQpZE65ZkM2"
      },
      "outputs": [],
      "source": [
        "def save_answers2(dict_size_before, dict_size_after, corpus_size_before, corpus_size_after):\n",
        "    with open(\"cooking_LDA_pa_task2.txt\", \"w\") as fout:\n",
        "        fout.write(\" \".join([str(el) for el in [dict_size_before, dict_size_after, corpus_size_before, corpus_size_after]]))"
      ]
    },
    {
      "cell_type": "code",
      "execution_count": null,
      "metadata": {
        "id": "a61TVAVNyz87"
      },
      "outputs": [],
      "source": [
        "save_answers2(dict_size_before, dict_size_after, sum(corpus_size_before), sum(corpus_size_after))"
      ]
    },
    {
      "cell_type": "markdown",
      "metadata": {
        "id": "zIUA9JHxZkM2"
      },
      "source": [
        "### Сравнение когерентностей"
      ]
    },
    {
      "cell_type": "code",
      "execution_count": null,
      "metadata": {
        "colab": {
          "base_uri": "https://localhost:8080/"
        },
        "id": "k3OlWgKgZkM3",
        "outputId": "a732fd3e-290f-48ea-ea06-1235b4ac1380"
      },
      "outputs": [
        {
          "name": "stdout",
          "output_type": "stream",
          "text": [
            "CPU times: user 52.7 s, sys: 314 ms, total: 53 s\n",
            "Wall time: 52.9 s\n"
          ]
        }
      ],
      "source": [
        "np.random.seed(76543)\n",
        "# здесь код для построения модели:\n",
        "%time ldamodel2 = models.ldamodel.LdaModel(corpus2, id2word=dictionary2, num_topics=40, passes=5)"
      ]
    },
    {
      "cell_type": "code",
      "execution_count": null,
      "metadata": {
        "id": "f9psHt65ZkM3"
      },
      "outputs": [],
      "source": [
        "avr_cog2 = sum([ldamodel2.top_topics(corpus2)[i][1] for i in range(len(ldamodel2.top_topics(corpus2)))])/len(ldamodel2.top_topics(corpus2))"
      ]
    },
    {
      "cell_type": "code",
      "execution_count": null,
      "metadata": {
        "id": "kiavYV7XZkM3"
      },
      "outputs": [],
      "source": [
        "avr_cog = sum([ldamodel.top_topics(corpus)[i][1] for i in range(len(ldamodel2.top_topics(corpus)))])/len(ldamodel2.top_topics(corpus))"
      ]
    },
    {
      "cell_type": "code",
      "execution_count": null,
      "metadata": {
        "id": "p4XgM6JjZkM3"
      },
      "outputs": [],
      "source": [
        "def save_answers3(coherence, coherence2):\n",
        "    with open(\"cooking_LDA_pa_task3.txt\", \"w\") as fout:\n",
        "        fout.write(\" \".join([\"%3f\"%el for el in [coherence, coherence2]]))"
      ]
    },
    {
      "cell_type": "code",
      "execution_count": null,
      "metadata": {
        "id": "yP4TfXLR4oX6"
      },
      "outputs": [],
      "source": [
        "save_answers3(avr_cog, avr_cog2)"
      ]
    },
    {
      "cell_type": "code",
      "execution_count": null,
      "metadata": {
        "colab": {
          "base_uri": "https://localhost:8080/"
        },
        "id": "xxgm3byY4319",
        "outputId": "515e8823-ccb5-4971-8d61-8fa3084d0af3"
      },
      "outputs": [
        {
          "name": "stdout",
          "output_type": "stream",
          "text": [
            "-5.849971009856025 -8.304104910059584\n"
          ]
        }
      ],
      "source": [
        "print(avr_cog, avr_cog2)"
      ]
    },
    {
      "cell_type": "markdown",
      "metadata": {
        "id": "XSN4blgVZkM4"
      },
      "source": [
        "Считается, что когерентность хорошо соотносится с человеческими оценками интерпретируемости тем. Поэтому на больших текстовых коллекциях когерентность обычно повышается, если убрать фоновую лексику. Однако в нашем случае этого не произошло. "
      ]
    },
    {
      "cell_type": "markdown",
      "metadata": {
        "id": "uENiomJbZkM4"
      },
      "source": [
        "### Изучение влияния гиперпараметра alpha"
      ]
    },
    {
      "cell_type": "code",
      "execution_count": null,
      "metadata": {
        "colab": {
          "base_uri": "https://localhost:8080/"
        },
        "id": "vD8A7qr1ZkM5",
        "outputId": "7d9b38cd-0058-497a-f990-16c447c63eab"
      },
      "outputs": [
        {
          "data": {
            "text/plain": [
              "[(4, 0.20250002), (25, 0.1025), (30, 0.10711076), (31, 0.49788922)]"
            ]
          },
          "execution_count": 34,
          "metadata": {},
          "output_type": "execute_result"
        }
      ],
      "source": [
        "ldamodel2.get_document_topics(corpus[0])"
      ]
    },
    {
      "cell_type": "markdown",
      "metadata": {
        "id": "-PfgO_xTZkM5"
      },
      "source": [
        "Также выведите содержимое переменной *.alpha* второй модели:"
      ]
    },
    {
      "cell_type": "code",
      "execution_count": null,
      "metadata": {
        "colab": {
          "base_uri": "https://localhost:8080/"
        },
        "id": "wDGlKUJCZkM5",
        "outputId": "c87b6826-c980-41b9-f6b3-1ec2683c050c"
      },
      "outputs": [
        {
          "data": {
            "text/plain": [
              "array([0.025, 0.025, 0.025, 0.025, 0.025, 0.025, 0.025, 0.025, 0.025,\n",
              "       0.025, 0.025, 0.025, 0.025, 0.025, 0.025, 0.025, 0.025, 0.025,\n",
              "       0.025, 0.025, 0.025, 0.025, 0.025, 0.025, 0.025, 0.025, 0.025,\n",
              "       0.025, 0.025, 0.025, 0.025, 0.025, 0.025, 0.025, 0.025, 0.025,\n",
              "       0.025, 0.025, 0.025, 0.025], dtype=float32)"
            ]
          },
          "execution_count": 35,
          "metadata": {},
          "output_type": "execute_result"
        }
      ],
      "source": [
        "ldamodel2.alpha"
      ]
    },
    {
      "cell_type": "code",
      "execution_count": null,
      "metadata": {
        "colab": {
          "base_uri": "https://localhost:8080/"
        },
        "id": "fGufP5f5ZkM6",
        "outputId": "f7e699df-2594-45d3-ef12-cf75320b4166"
      },
      "outputs": [
        {
          "name": "stdout",
          "output_type": "stream",
          "text": [
            "CPU times: user 38.6 s, sys: 465 ms, total: 39.1 s\n",
            "Wall time: 38.8 s\n"
          ]
        }
      ],
      "source": [
        "np.random.seed(76543)\n",
        "# здесь код для построения модели:\n",
        "%time ldamodel3 = models.ldamodel.LdaModel(corpus2, id2word=dictionary2, num_topics=40, passes=5, alpha=1)"
      ]
    },
    {
      "cell_type": "code",
      "execution_count": null,
      "metadata": {
        "id": "d5LM8KAHZkM6"
      },
      "outputs": [],
      "source": [
        "count_model3 = sum([len(ldamodel3.get_document_topics(corpus2[i], minimum_probability=0.01)) for i in range(len(corpus2))])"
      ]
    },
    {
      "cell_type": "code",
      "execution_count": null,
      "metadata": {
        "id": "1WYO7yl1_dDm"
      },
      "outputs": [],
      "source": [
        "count_model2 = sum([len(ldamodel2.get_document_topics(corpus2[i], minimum_probability=0.01)) for i in range(len(corpus2))])"
      ]
    },
    {
      "cell_type": "code",
      "execution_count": null,
      "metadata": {
        "id": "vfQCyLyYZkM7"
      },
      "outputs": [],
      "source": [
        "def save_answers4(count_model2, count_model3):\n",
        "    with open(\"cooking_LDA_pa_task4.txt\", \"w\") as fout:\n",
        "        fout.write(\" \".join([str(el) for el in [count_model2, count_model3]]))"
      ]
    },
    {
      "cell_type": "code",
      "execution_count": null,
      "metadata": {
        "id": "GJ5_XDZH_rcq"
      },
      "outputs": [],
      "source": [
        "save_answers4(count_model2, count_model3)"
      ]
    },
    {
      "cell_type": "markdown",
      "metadata": {
        "id": "zEqMBE2IZkM7"
      },
      "source": [
        "Таким образом, гиперпараметр __alpha__ влияет на разреженность распределений тем в документах. Аналогично гиперпараметр __eta__ влияет на разреженность распределений слов в темах."
      ]
    },
    {
      "cell_type": "markdown",
      "metadata": {
        "id": "NgRu28gAZkM7"
      },
      "source": [
        "### LDA как способ понижения размерности"
      ]
    },
    {
      "cell_type": "code",
      "execution_count": null,
      "metadata": {
        "id": "nOnfakM_ZkM8"
      },
      "outputs": [],
      "source": [
        "from sklearn.ensemble import RandomForestClassifier\n",
        "from sklearn.model_selection import cross_val_score"
      ]
    },
    {
      "cell_type": "code",
      "execution_count": null,
      "metadata": {
        "colab": {
          "base_uri": "https://localhost:8080/"
        },
        "id": "NvqX4lql5rbP",
        "outputId": "9e7e5949-0a53-4b47-a6ea-666428b13126"
      },
      "outputs": [
        {
          "data": {
            "text/plain": [
              "[(25, 0.12812501), (30, 0.13389271), (31, 0.6223573)]"
            ]
          },
          "execution_count": 61,
          "metadata": {},
          "output_type": "execute_result"
        }
      ],
      "source": [
        "ldamodel2.get_document_topics(corpus2[0])"
      ]
    },
    {
      "cell_type": "code",
      "execution_count": null,
      "metadata": {
        "id": "4O0pvDb-ZkM9"
      },
      "outputs": [],
      "source": [
        "y = []\n",
        "for r in recipes:\n",
        "    y.append(r['cuisine'])"
      ]
    },
    {
      "cell_type": "code",
      "execution_count": null,
      "metadata": {
        "colab": {
          "base_uri": "https://localhost:8080/",
          "height": 439
        },
        "id": "3yjgJcchZkM9",
        "outputId": "e08052df-ca75-4a04-f7f1-37c88fb9082b"
      },
      "outputs": [
        {
          "data": {
            "text/html": [
              "<div>\n",
              "<style scoped>\n",
              "    .dataframe tbody tr th:only-of-type {\n",
              "        vertical-align: middle;\n",
              "    }\n",
              "\n",
              "    .dataframe tbody tr th {\n",
              "        vertical-align: top;\n",
              "    }\n",
              "\n",
              "    .dataframe thead th {\n",
              "        text-align: right;\n",
              "    }\n",
              "</style>\n",
              "<table border=\"1\" class=\"dataframe\">\n",
              "  <thead>\n",
              "    <tr style=\"text-align: right;\">\n",
              "      <th></th>\n",
              "      <th>0</th>\n",
              "      <th>1</th>\n",
              "      <th>2</th>\n",
              "      <th>3</th>\n",
              "      <th>4</th>\n",
              "      <th>5</th>\n",
              "      <th>6</th>\n",
              "      <th>7</th>\n",
              "      <th>8</th>\n",
              "      <th>9</th>\n",
              "      <th>10</th>\n",
              "      <th>11</th>\n",
              "      <th>12</th>\n",
              "      <th>13</th>\n",
              "      <th>14</th>\n",
              "      <th>15</th>\n",
              "      <th>16</th>\n",
              "      <th>17</th>\n",
              "      <th>18</th>\n",
              "      <th>19</th>\n",
              "      <th>20</th>\n",
              "      <th>21</th>\n",
              "      <th>22</th>\n",
              "      <th>23</th>\n",
              "      <th>24</th>\n",
              "      <th>25</th>\n",
              "      <th>26</th>\n",
              "      <th>27</th>\n",
              "      <th>28</th>\n",
              "      <th>29</th>\n",
              "      <th>30</th>\n",
              "      <th>31</th>\n",
              "      <th>32</th>\n",
              "      <th>33</th>\n",
              "      <th>34</th>\n",
              "      <th>35</th>\n",
              "      <th>36</th>\n",
              "      <th>37</th>\n",
              "      <th>38</th>\n",
              "      <th>39</th>\n",
              "    </tr>\n",
              "  </thead>\n",
              "  <tbody>\n",
              "    <tr>\n",
              "      <th>0</th>\n",
              "      <td>0.000000</td>\n",
              "      <td>0.000000</td>\n",
              "      <td>0.000000</td>\n",
              "      <td>0.000000</td>\n",
              "      <td>0.000000</td>\n",
              "      <td>0.0000</td>\n",
              "      <td>0.0000</td>\n",
              "      <td>0.0000</td>\n",
              "      <td>0.0000</td>\n",
              "      <td>0.00000</td>\n",
              "      <td>0.00000</td>\n",
              "      <td>0.000000</td>\n",
              "      <td>0.000000</td>\n",
              "      <td>0.0000</td>\n",
              "      <td>0.0000</td>\n",
              "      <td>0.000000</td>\n",
              "      <td>0.0000</td>\n",
              "      <td>0.000000</td>\n",
              "      <td>0.000000</td>\n",
              "      <td>0.0000</td>\n",
              "      <td>0.0000</td>\n",
              "      <td>0.00000</td>\n",
              "      <td>0.000000</td>\n",
              "      <td>0.000000</td>\n",
              "      <td>0.000000</td>\n",
              "      <td>0.128125</td>\n",
              "      <td>0.000000</td>\n",
              "      <td>0.0000</td>\n",
              "      <td>0.000000</td>\n",
              "      <td>0.000000</td>\n",
              "      <td>0.133891</td>\n",
              "      <td>0.622359</td>\n",
              "      <td>0.000000</td>\n",
              "      <td>0.0000</td>\n",
              "      <td>0.0000</td>\n",
              "      <td>0.000000</td>\n",
              "      <td>0.000000</td>\n",
              "      <td>0.0000</td>\n",
              "      <td>0.000000</td>\n",
              "      <td>0.000000</td>\n",
              "    </tr>\n",
              "    <tr>\n",
              "      <th>1</th>\n",
              "      <td>0.000000</td>\n",
              "      <td>0.000000</td>\n",
              "      <td>0.000000</td>\n",
              "      <td>0.113889</td>\n",
              "      <td>0.447131</td>\n",
              "      <td>0.0000</td>\n",
              "      <td>0.0000</td>\n",
              "      <td>0.0000</td>\n",
              "      <td>0.0000</td>\n",
              "      <td>0.11398</td>\n",
              "      <td>0.00000</td>\n",
              "      <td>0.000000</td>\n",
              "      <td>0.000000</td>\n",
              "      <td>0.0000</td>\n",
              "      <td>0.0000</td>\n",
              "      <td>0.000000</td>\n",
              "      <td>0.0000</td>\n",
              "      <td>0.000000</td>\n",
              "      <td>0.000000</td>\n",
              "      <td>0.0000</td>\n",
              "      <td>0.0000</td>\n",
              "      <td>0.00000</td>\n",
              "      <td>0.000000</td>\n",
              "      <td>0.000000</td>\n",
              "      <td>0.000000</td>\n",
              "      <td>0.000000</td>\n",
              "      <td>0.000000</td>\n",
              "      <td>0.0000</td>\n",
              "      <td>0.000000</td>\n",
              "      <td>0.000000</td>\n",
              "      <td>0.000000</td>\n",
              "      <td>0.000000</td>\n",
              "      <td>0.000000</td>\n",
              "      <td>0.0000</td>\n",
              "      <td>0.0000</td>\n",
              "      <td>0.000000</td>\n",
              "      <td>0.000000</td>\n",
              "      <td>0.0000</td>\n",
              "      <td>0.000000</td>\n",
              "      <td>0.225000</td>\n",
              "    </tr>\n",
              "    <tr>\n",
              "      <th>2</th>\n",
              "      <td>0.000000</td>\n",
              "      <td>0.000000</td>\n",
              "      <td>0.000000</td>\n",
              "      <td>0.000000</td>\n",
              "      <td>0.000000</td>\n",
              "      <td>0.0000</td>\n",
              "      <td>0.0000</td>\n",
              "      <td>0.0000</td>\n",
              "      <td>0.0000</td>\n",
              "      <td>0.00000</td>\n",
              "      <td>0.00000</td>\n",
              "      <td>0.105373</td>\n",
              "      <td>0.000000</td>\n",
              "      <td>0.0000</td>\n",
              "      <td>0.0000</td>\n",
              "      <td>0.102500</td>\n",
              "      <td>0.0000</td>\n",
              "      <td>0.114786</td>\n",
              "      <td>0.000000</td>\n",
              "      <td>0.0000</td>\n",
              "      <td>0.0000</td>\n",
              "      <td>0.10250</td>\n",
              "      <td>0.173595</td>\n",
              "      <td>0.177291</td>\n",
              "      <td>0.000000</td>\n",
              "      <td>0.000000</td>\n",
              "      <td>0.000000</td>\n",
              "      <td>0.0000</td>\n",
              "      <td>0.000000</td>\n",
              "      <td>0.103528</td>\n",
              "      <td>0.000000</td>\n",
              "      <td>0.000000</td>\n",
              "      <td>0.000000</td>\n",
              "      <td>0.0000</td>\n",
              "      <td>0.0000</td>\n",
              "      <td>0.000000</td>\n",
              "      <td>0.000000</td>\n",
              "      <td>0.0000</td>\n",
              "      <td>0.000000</td>\n",
              "      <td>0.040427</td>\n",
              "    </tr>\n",
              "    <tr>\n",
              "      <th>3</th>\n",
              "      <td>0.012500</td>\n",
              "      <td>0.012500</td>\n",
              "      <td>0.012500</td>\n",
              "      <td>0.012500</td>\n",
              "      <td>0.012500</td>\n",
              "      <td>0.0125</td>\n",
              "      <td>0.0125</td>\n",
              "      <td>0.0125</td>\n",
              "      <td>0.0125</td>\n",
              "      <td>0.01250</td>\n",
              "      <td>0.01250</td>\n",
              "      <td>0.512500</td>\n",
              "      <td>0.012500</td>\n",
              "      <td>0.0125</td>\n",
              "      <td>0.0125</td>\n",
              "      <td>0.012500</td>\n",
              "      <td>0.0125</td>\n",
              "      <td>0.012500</td>\n",
              "      <td>0.012500</td>\n",
              "      <td>0.0125</td>\n",
              "      <td>0.0125</td>\n",
              "      <td>0.01250</td>\n",
              "      <td>0.012500</td>\n",
              "      <td>0.012500</td>\n",
              "      <td>0.012500</td>\n",
              "      <td>0.012500</td>\n",
              "      <td>0.012500</td>\n",
              "      <td>0.0125</td>\n",
              "      <td>0.012500</td>\n",
              "      <td>0.012500</td>\n",
              "      <td>0.012500</td>\n",
              "      <td>0.012500</td>\n",
              "      <td>0.012500</td>\n",
              "      <td>0.0125</td>\n",
              "      <td>0.0125</td>\n",
              "      <td>0.012500</td>\n",
              "      <td>0.012500</td>\n",
              "      <td>0.0125</td>\n",
              "      <td>0.012500</td>\n",
              "      <td>0.012500</td>\n",
              "    </tr>\n",
              "    <tr>\n",
              "      <th>4</th>\n",
              "      <td>0.000000</td>\n",
              "      <td>0.106841</td>\n",
              "      <td>0.000000</td>\n",
              "      <td>0.000000</td>\n",
              "      <td>0.057080</td>\n",
              "      <td>0.0000</td>\n",
              "      <td>0.0000</td>\n",
              "      <td>0.0000</td>\n",
              "      <td>0.0000</td>\n",
              "      <td>0.00000</td>\n",
              "      <td>0.23897</td>\n",
              "      <td>0.000000</td>\n",
              "      <td>0.000000</td>\n",
              "      <td>0.0000</td>\n",
              "      <td>0.0000</td>\n",
              "      <td>0.075129</td>\n",
              "      <td>0.0000</td>\n",
              "      <td>0.000000</td>\n",
              "      <td>0.000000</td>\n",
              "      <td>0.0000</td>\n",
              "      <td>0.0000</td>\n",
              "      <td>0.39923</td>\n",
              "      <td>0.000000</td>\n",
              "      <td>0.000000</td>\n",
              "      <td>0.000000</td>\n",
              "      <td>0.000000</td>\n",
              "      <td>0.000000</td>\n",
              "      <td>0.0000</td>\n",
              "      <td>0.000000</td>\n",
              "      <td>0.000000</td>\n",
              "      <td>0.000000</td>\n",
              "      <td>0.000000</td>\n",
              "      <td>0.072750</td>\n",
              "      <td>0.0000</td>\n",
              "      <td>0.0000</td>\n",
              "      <td>0.000000</td>\n",
              "      <td>0.000000</td>\n",
              "      <td>0.0000</td>\n",
              "      <td>0.000000</td>\n",
              "      <td>0.000000</td>\n",
              "    </tr>\n",
              "    <tr>\n",
              "      <th>...</th>\n",
              "      <td>...</td>\n",
              "      <td>...</td>\n",
              "      <td>...</td>\n",
              "      <td>...</td>\n",
              "      <td>...</td>\n",
              "      <td>...</td>\n",
              "      <td>...</td>\n",
              "      <td>...</td>\n",
              "      <td>...</td>\n",
              "      <td>...</td>\n",
              "      <td>...</td>\n",
              "      <td>...</td>\n",
              "      <td>...</td>\n",
              "      <td>...</td>\n",
              "      <td>...</td>\n",
              "      <td>...</td>\n",
              "      <td>...</td>\n",
              "      <td>...</td>\n",
              "      <td>...</td>\n",
              "      <td>...</td>\n",
              "      <td>...</td>\n",
              "      <td>...</td>\n",
              "      <td>...</td>\n",
              "      <td>...</td>\n",
              "      <td>...</td>\n",
              "      <td>...</td>\n",
              "      <td>...</td>\n",
              "      <td>...</td>\n",
              "      <td>...</td>\n",
              "      <td>...</td>\n",
              "      <td>...</td>\n",
              "      <td>...</td>\n",
              "      <td>...</td>\n",
              "      <td>...</td>\n",
              "      <td>...</td>\n",
              "      <td>...</td>\n",
              "      <td>...</td>\n",
              "      <td>...</td>\n",
              "      <td>...</td>\n",
              "      <td>...</td>\n",
              "    </tr>\n",
              "    <tr>\n",
              "      <th>39769</th>\n",
              "      <td>0.000000</td>\n",
              "      <td>0.000000</td>\n",
              "      <td>0.102500</td>\n",
              "      <td>0.000000</td>\n",
              "      <td>0.157653</td>\n",
              "      <td>0.0000</td>\n",
              "      <td>0.0000</td>\n",
              "      <td>0.0000</td>\n",
              "      <td>0.0000</td>\n",
              "      <td>0.00000</td>\n",
              "      <td>0.00000</td>\n",
              "      <td>0.000000</td>\n",
              "      <td>0.121801</td>\n",
              "      <td>0.0000</td>\n",
              "      <td>0.0000</td>\n",
              "      <td>0.000000</td>\n",
              "      <td>0.0000</td>\n",
              "      <td>0.000000</td>\n",
              "      <td>0.000000</td>\n",
              "      <td>0.0000</td>\n",
              "      <td>0.0000</td>\n",
              "      <td>0.10250</td>\n",
              "      <td>0.000000</td>\n",
              "      <td>0.000000</td>\n",
              "      <td>0.000000</td>\n",
              "      <td>0.000000</td>\n",
              "      <td>0.000000</td>\n",
              "      <td>0.1025</td>\n",
              "      <td>0.000000</td>\n",
              "      <td>0.000000</td>\n",
              "      <td>0.128046</td>\n",
              "      <td>0.000000</td>\n",
              "      <td>0.000000</td>\n",
              "      <td>0.0000</td>\n",
              "      <td>0.0000</td>\n",
              "      <td>0.000000</td>\n",
              "      <td>0.000000</td>\n",
              "      <td>0.0000</td>\n",
              "      <td>0.102500</td>\n",
              "      <td>0.102500</td>\n",
              "    </tr>\n",
              "    <tr>\n",
              "      <th>39770</th>\n",
              "      <td>0.128125</td>\n",
              "      <td>0.000000</td>\n",
              "      <td>0.000000</td>\n",
              "      <td>0.000000</td>\n",
              "      <td>0.000000</td>\n",
              "      <td>0.0000</td>\n",
              "      <td>0.0000</td>\n",
              "      <td>0.0000</td>\n",
              "      <td>0.0000</td>\n",
              "      <td>0.00000</td>\n",
              "      <td>0.00000</td>\n",
              "      <td>0.000000</td>\n",
              "      <td>0.000000</td>\n",
              "      <td>0.0000</td>\n",
              "      <td>0.0000</td>\n",
              "      <td>0.000000</td>\n",
              "      <td>0.0000</td>\n",
              "      <td>0.000000</td>\n",
              "      <td>0.000000</td>\n",
              "      <td>0.0000</td>\n",
              "      <td>0.0000</td>\n",
              "      <td>0.00000</td>\n",
              "      <td>0.000000</td>\n",
              "      <td>0.000000</td>\n",
              "      <td>0.000000</td>\n",
              "      <td>0.000000</td>\n",
              "      <td>0.000000</td>\n",
              "      <td>0.0000</td>\n",
              "      <td>0.128125</td>\n",
              "      <td>0.128125</td>\n",
              "      <td>0.378125</td>\n",
              "      <td>0.000000</td>\n",
              "      <td>0.128125</td>\n",
              "      <td>0.0000</td>\n",
              "      <td>0.0000</td>\n",
              "      <td>0.000000</td>\n",
              "      <td>0.000000</td>\n",
              "      <td>0.0000</td>\n",
              "      <td>0.000000</td>\n",
              "      <td>0.000000</td>\n",
              "    </tr>\n",
              "    <tr>\n",
              "      <th>39771</th>\n",
              "      <td>0.000000</td>\n",
              "      <td>0.000000</td>\n",
              "      <td>0.000000</td>\n",
              "      <td>0.123921</td>\n",
              "      <td>0.313014</td>\n",
              "      <td>0.0000</td>\n",
              "      <td>0.0000</td>\n",
              "      <td>0.0000</td>\n",
              "      <td>0.0000</td>\n",
              "      <td>0.00000</td>\n",
              "      <td>0.00000</td>\n",
              "      <td>0.000000</td>\n",
              "      <td>0.000000</td>\n",
              "      <td>0.0000</td>\n",
              "      <td>0.0000</td>\n",
              "      <td>0.000000</td>\n",
              "      <td>0.0000</td>\n",
              "      <td>0.000000</td>\n",
              "      <td>0.259258</td>\n",
              "      <td>0.0000</td>\n",
              "      <td>0.0000</td>\n",
              "      <td>0.00000</td>\n",
              "      <td>0.112936</td>\n",
              "      <td>0.000000</td>\n",
              "      <td>0.000000</td>\n",
              "      <td>0.000000</td>\n",
              "      <td>0.000000</td>\n",
              "      <td>0.0000</td>\n",
              "      <td>0.000000</td>\n",
              "      <td>0.000000</td>\n",
              "      <td>0.000000</td>\n",
              "      <td>0.000000</td>\n",
              "      <td>0.000000</td>\n",
              "      <td>0.0000</td>\n",
              "      <td>0.0000</td>\n",
              "      <td>0.000000</td>\n",
              "      <td>0.000000</td>\n",
              "      <td>0.0000</td>\n",
              "      <td>0.103370</td>\n",
              "      <td>0.000000</td>\n",
              "    </tr>\n",
              "    <tr>\n",
              "      <th>39772</th>\n",
              "      <td>0.000000</td>\n",
              "      <td>0.000000</td>\n",
              "      <td>0.000000</td>\n",
              "      <td>0.000000</td>\n",
              "      <td>0.096644</td>\n",
              "      <td>0.0000</td>\n",
              "      <td>0.0000</td>\n",
              "      <td>0.0000</td>\n",
              "      <td>0.0000</td>\n",
              "      <td>0.00000</td>\n",
              "      <td>0.00000</td>\n",
              "      <td>0.000000</td>\n",
              "      <td>0.056605</td>\n",
              "      <td>0.0000</td>\n",
              "      <td>0.0000</td>\n",
              "      <td>0.054042</td>\n",
              "      <td>0.0000</td>\n",
              "      <td>0.000000</td>\n",
              "      <td>0.000000</td>\n",
              "      <td>0.0000</td>\n",
              "      <td>0.0000</td>\n",
              "      <td>0.00000</td>\n",
              "      <td>0.057175</td>\n",
              "      <td>0.433090</td>\n",
              "      <td>0.000000</td>\n",
              "      <td>0.000000</td>\n",
              "      <td>0.000000</td>\n",
              "      <td>0.0000</td>\n",
              "      <td>0.045850</td>\n",
              "      <td>0.000000</td>\n",
              "      <td>0.000000</td>\n",
              "      <td>0.000000</td>\n",
              "      <td>0.000000</td>\n",
              "      <td>0.0000</td>\n",
              "      <td>0.0000</td>\n",
              "      <td>0.049884</td>\n",
              "      <td>0.050196</td>\n",
              "      <td>0.0000</td>\n",
              "      <td>0.050827</td>\n",
              "      <td>0.069973</td>\n",
              "    </tr>\n",
              "    <tr>\n",
              "      <th>39773</th>\n",
              "      <td>0.000000</td>\n",
              "      <td>0.000000</td>\n",
              "      <td>0.134142</td>\n",
              "      <td>0.000000</td>\n",
              "      <td>0.000000</td>\n",
              "      <td>0.0000</td>\n",
              "      <td>0.0000</td>\n",
              "      <td>0.0000</td>\n",
              "      <td>0.0000</td>\n",
              "      <td>0.00000</td>\n",
              "      <td>0.00000</td>\n",
              "      <td>0.000000</td>\n",
              "      <td>0.000000</td>\n",
              "      <td>0.0000</td>\n",
              "      <td>0.0000</td>\n",
              "      <td>0.000000</td>\n",
              "      <td>0.0000</td>\n",
              "      <td>0.000000</td>\n",
              "      <td>0.000000</td>\n",
              "      <td>0.0000</td>\n",
              "      <td>0.0000</td>\n",
              "      <td>0.00000</td>\n",
              "      <td>0.000000</td>\n",
              "      <td>0.000000</td>\n",
              "      <td>0.220255</td>\n",
              "      <td>0.000000</td>\n",
              "      <td>0.163341</td>\n",
              "      <td>0.0000</td>\n",
              "      <td>0.000000</td>\n",
              "      <td>0.000000</td>\n",
              "      <td>0.000000</td>\n",
              "      <td>0.115218</td>\n",
              "      <td>0.000000</td>\n",
              "      <td>0.0000</td>\n",
              "      <td>0.0000</td>\n",
              "      <td>0.000000</td>\n",
              "      <td>0.000000</td>\n",
              "      <td>0.0000</td>\n",
              "      <td>0.000000</td>\n",
              "      <td>0.269821</td>\n",
              "    </tr>\n",
              "  </tbody>\n",
              "</table>\n",
              "<p>39774 rows × 40 columns</p>\n",
              "</div>"
            ],
            "text/plain": [
              "             0         1         2   ...      37        38        39\n",
              "0      0.000000  0.000000  0.000000  ...  0.0000  0.000000  0.000000\n",
              "1      0.000000  0.000000  0.000000  ...  0.0000  0.000000  0.225000\n",
              "2      0.000000  0.000000  0.000000  ...  0.0000  0.000000  0.040427\n",
              "3      0.012500  0.012500  0.012500  ...  0.0125  0.012500  0.012500\n",
              "4      0.000000  0.106841  0.000000  ...  0.0000  0.000000  0.000000\n",
              "...         ...       ...       ...  ...     ...       ...       ...\n",
              "39769  0.000000  0.000000  0.102500  ...  0.0000  0.102500  0.102500\n",
              "39770  0.128125  0.000000  0.000000  ...  0.0000  0.000000  0.000000\n",
              "39771  0.000000  0.000000  0.000000  ...  0.0000  0.103370  0.000000\n",
              "39772  0.000000  0.000000  0.000000  ...  0.0000  0.050827  0.069973\n",
              "39773  0.000000  0.000000  0.134142  ...  0.0000  0.000000  0.269821\n",
              "\n",
              "[39774 rows x 40 columns]"
            ]
          },
          "execution_count": 59,
          "metadata": {},
          "output_type": "execute_result"
        }
      ],
      "source": [
        "X = np.zeros((len(recipes),40))\n",
        "for i in range(len(recipes)):\n",
        "    top = ldamodel2.get_document_topics(corpus2[i])\n",
        "    for t in top:\n",
        "        X[i,t[0]] = t[1]\n",
        "pd.DataFrame(X)"
      ]
    },
    {
      "cell_type": "code",
      "execution_count": null,
      "metadata": {
        "id": "RoiN7Eka67Gf"
      },
      "outputs": [],
      "source": [
        "RandomForest = RandomForestClassifier(n_estimators=100)"
      ]
    },
    {
      "cell_type": "code",
      "execution_count": null,
      "metadata": {
        "id": "Iro0-Zbg7FrY"
      },
      "outputs": [],
      "source": [
        "accuracy = cross_val_score(RandomForest, X, y=y, cv=3)"
      ]
    },
    {
      "cell_type": "code",
      "execution_count": null,
      "metadata": {
        "colab": {
          "base_uri": "https://localhost:8080/"
        },
        "id": "wNqwxOyO7nJd",
        "outputId": "011af976-0c3a-47a3-ee52-5096ca422deb"
      },
      "outputs": [
        {
          "data": {
            "text/plain": [
              "0.5551616633981998"
            ]
          },
          "execution_count": 66,
          "metadata": {},
          "output_type": "execute_result"
        }
      ],
      "source": [
        "accuracy = accuracy.mean()\n",
        "accuracy"
      ]
    },
    {
      "cell_type": "code",
      "execution_count": null,
      "metadata": {
        "id": "pjK-MOmNZkM-"
      },
      "outputs": [],
      "source": [
        "def save_answers5(accuracy):\n",
        "     with open(\"cooking_LDA_pa_task5.txt\", \"w\") as fout:\n",
        "        fout.write(str(accuracy))"
      ]
    },
    {
      "cell_type": "code",
      "execution_count": null,
      "metadata": {
        "id": "-ckKxMWC7s_Z"
      },
      "outputs": [],
      "source": [
        "save_answers5(accuracy)"
      ]
    },
    {
      "cell_type": "markdown",
      "metadata": {
        "id": "jR9M5fbPZkM-"
      },
      "source": [
        "Для такого большого количества классов это неплохая точность. Вы можете попроовать обучать RandomForest на исходной матрице частот слов, имеющей значительно большую размерность, и увидеть, что accuracy увеличивается на 10–15%. Таким образом, LDA собрал не всю, но достаточно большую часть информации из выборки, в матрице низкого ранга."
      ]
    },
    {
      "cell_type": "markdown",
      "metadata": {
        "id": "6eduD8ccZkM-"
      },
      "source": [
        "### LDA — вероятностная модель\n",
        "Матричное разложение, использующееся в LDA, интерпретируется как следующий процесс генерации документов.\n",
        "\n",
        "Для документа $d$ длины $n_d$:\n",
        "1. Из априорного распределения Дирихле с параметром alpha сгенерировать распределение над множеством тем: $\\theta_d \\sim Dirichlet(\\alpha)$\n",
        "1. Для каждого слова $w = 1, \\dots, n_d$:\n",
        "    1. Сгенерировать тему из дискретного распределения $t \\sim \\theta_{d}$\n",
        "    1. Сгенерировать слово из дискретного распределения $w \\sim \\phi_{t}$.\n",
        "    \n",
        "Подробнее об этом в [Википедии](https://en.wikipedia.org/wiki/Latent_Dirichlet_allocation).\n",
        "\n",
        "В контексте нашей задачи получается, что, используя данный генеративный процесс, можно создавать новые рецепты. Вы можете передать в функцию модель и число ингредиентов и сгенерировать рецепт :)"
      ]
    },
    {
      "cell_type": "code",
      "execution_count": null,
      "metadata": {
        "id": "nnt7kaDaZkM_"
      },
      "outputs": [],
      "source": [
        "def generate_recipe(model, num_ingredients):\n",
        "    theta = np.random.dirichlet(model.alpha)\n",
        "    for i in range(num_ingredients):\n",
        "        t = np.random.choice(np.arange(model.num_topics), p=theta)\n",
        "        topic = model.show_topic(t, topn=model.num_terms)\n",
        "        topic_distr = [x[1] for x in topic]\n",
        "        terms = [x[0] for x in topic]\n",
        "        p = np.array(topic_distr)\n",
        "        topic_distr /= sum(topic_distr)\n",
        "        w = np.random.choice(terms, p=p)\n",
        "        print(w)"
      ]
    },
    {
      "cell_type": "code",
      "execution_count": null,
      "metadata": {
        "colab": {
          "base_uri": "https://localhost:8080/"
        },
        "id": "AauTWx0FZkM_",
        "outputId": "ce679946-5305-48ce-c3c0-045d71681d2d"
      },
      "outputs": [
        {
          "name": "stdout",
          "output_type": "stream",
          "text": [
            "Shaoxing wine\n",
            "fresh parsley\n",
            "bread\n",
            "roasted red peppers\n",
            "shallots\n"
          ]
        }
      ],
      "source": [
        "generate_recipe(ldamodel2, 5)"
      ]
    },
    {
      "cell_type": "markdown",
      "metadata": {
        "id": "8lejThCVZkM_"
      },
      "source": [
        "### Интерпретация построенной модели"
      ]
    },
    {
      "cell_type": "code",
      "execution_count": null,
      "metadata": {
        "id": "OdGrAPl5ZkM_"
      },
      "outputs": [],
      "source": [
        "import pandas\n",
        "import seaborn\n",
        "from matplotlib import pyplot as plt\n",
        "%matplotlib inline"
      ]
    },
    {
      "cell_type": "code",
      "execution_count": null,
      "metadata": {
        "id": "Xq0b--_FZkNA"
      },
      "outputs": [],
      "source": [
        "def compute_topic_cuisine_matrix(model, corpus, recipes):\n",
        "\n",
        "    targets = list(set([recipe[\"cuisine\"] for recipe in recipes]))\n",
        "\n",
        "    tc_matrix = pandas.DataFrame(data=np.zeros((model.num_topics, len(targets))), columns=targets)\n",
        "    for recipe, bow in zip(recipes, corpus):\n",
        "        recipe_topic = model.get_document_topics(bow)\n",
        "        for t, prob in recipe_topic:\n",
        "            tc_matrix[recipe[\"cuisine\"]][t] += prob\n",
        "\n",
        "    target_sums = pandas.DataFrame(data=np.zeros((1, len(targets))), columns=targets)\n",
        "    for recipe in recipes:\n",
        "        target_sums[recipe[\"cuisine\"]] += 1\n",
        "    return pandas.DataFrame(tc_matrix.values/target_sums.values, columns=tc_matrix.columns)"
      ]
    },
    {
      "cell_type": "code",
      "execution_count": null,
      "metadata": {
        "id": "GND8jjVzZkNA"
      },
      "outputs": [],
      "source": [
        "def plot_matrix(tc_matrix):\n",
        "    plt.figure(figsize=(10, 10))\n",
        "    seaborn.heatmap(tc_matrix, square=True)"
      ]
    },
    {
      "cell_type": "code",
      "execution_count": null,
      "metadata": {
        "colab": {
          "base_uri": "https://localhost:8080/",
          "height": 644
        },
        "id": "XcZQTWnPZkNA",
        "outputId": "b45af04e-d549-4fd1-cf41-cb98a4f5122e"
      },
      "outputs": [
        {
          "data": {
            "image/png": "[encoded data removed]",
            "text/plain": [
              "<Figure size 720x720 with 2 Axes>"
            ]
          },
          "metadata": {
            "needs_background": "light"
          },
          "output_type": "display_data"
        }
      ],
      "source": [
        "matr1 = compute_topic_cuisine_matrix(ldamodel2, corpus2, recipes)\n",
        "plot_matrix(matr1)"
      ]
    },
    {
      "cell_type": "markdown",
      "metadata": {
        "id": "_oM43bzwZkNA"
      },
      "source": [
        "Чем темнее квадрат в матрице, тем больше связь этой темы с данной кухней. Мы видим, что у нас есть темы, которые связаны с несколькими кухнями. Такие темы показывают набор ингредиентов, которые популярны в кухнях нескольких народов, то есть указывают на схожесть кухонь этих народов. Некоторые темы распределены по всем кухням равномерно, они показывают наборы продуктов, которые часто используются в кулинарии всех стран. "
      ]
    },
    {
      "cell_type": "markdown",
      "metadata": {
        "id": "xizVpPEOZkNB"
      },
      "source": [
        "Жаль, что в датасете нет названий рецептов, иначе темы было бы проще интерпретировать..."
      ]
    }
  ],
  "metadata": {
    "colab": {
      "name": "edit_CookingLDA_PA_Coursera.ipynb",
      "provenance": []
    },
    "kernelspec": {
      "display_name": "Python 3",
      "language": "python",
      "name": "python3"
    },
    "language_info": {
      "codemirror_mode": {
        "name": "ipython",
        "version": 3
      },
      "file_extension": ".py",
      "mimetype": "text/x-python",
      "name": "python",
      "nbconvert_exporter": "python",
      "pygments_lexer": "ipython3",
      "version": "3.6.8"
    }
  },
  "nbformat": 4,
  "nbformat_minor": 0
}
